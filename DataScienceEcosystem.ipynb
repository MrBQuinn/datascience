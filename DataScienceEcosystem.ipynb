{
 "cells": [
  {
   "cell_type": "markdown",
   "id": "b65d7b34-b564-4931-ac53-c3cdcbf99cce",
   "metadata": {},
   "source": [
    "# Data Science Tools and Ecosystem"
   ]
  },
  {
   "cell_type": "markdown",
   "id": "90ecc33f-4402-45c8-9f2b-976d41cf0a8c",
   "metadata": {},
   "source": [
    "In this notebook, Data Science Tools and Ecosystem are summarized."
   ]
  },
  {
   "cell_type": "markdown",
   "id": "e0f3a694-1985-4fac-9283-165b44ce7c9b",
   "metadata": {},
   "source": [
    "Some of the popular languages that Data Scientists use:\n",
    "1. Python\n",
    "1. R\n",
    "1. Scala\n",
    "1. C++\n",
    "1. Julia"
   ]
  },
  {
   "cell_type": "markdown",
   "id": "72e97812-d32d-43c3-a2ff-839e64a97543",
   "metadata": {},
   "source": [
    "Some of the commonly used libraries used by Data Scientists:\n",
    "1. pandas\n",
    "1. numpy\n",
    "1. scipy\n",
    "1. sklearn\n",
    "1. tensorflow\n"
   ]
  },
  {
   "cell_type": "markdown",
   "id": "631e8872-a7e5-4a7a-907e-5c39bfb3455d",
   "metadata": {},
   "source": [
    "### Data Science Tools\n",
    "|Open Source Dev Enviroments:|\n",
    "|---|\n",
    "|Jupyter Notebooks|\n",
    "|R Studio|\n",
    "|Apache Zeppelin|"
   ]
  },
  {
   "cell_type": "markdown",
   "id": "f59d5fac-009d-4935-a203-4a4aa657db49",
   "metadata": {},
   "source": [
    "### Below are a few examples of evaluating arithmetic expressions in Python"
   ]
  },
  {
   "cell_type": "code",
   "execution_count": 2,
   "id": "7ba31cbe-af5d-4419-abb5-4e94c4525c70",
   "metadata": {
    "tags": []
   },
   "outputs": [
    {
     "data": {
      "text/plain": [
       "17"
      ]
     },
     "execution_count": 2,
     "metadata": {},
     "output_type": "execute_result"
    }
   ],
   "source": [
    "#This is a simple arithmetic expression to multiply integers\n",
    "(3*4)+5"
   ]
  },
  {
   "cell_type": "code",
   "execution_count": 9,
   "id": "108c6e04-e823-4a52-a1f7-933c4934e0b5",
   "metadata": {
    "tags": []
   },
   "outputs": [
    {
     "name": "stdin",
     "output_type": "stream",
     "text": [
      "Enter Minutes: 200\n"
     ]
    },
    {
     "name": "stdout",
     "output_type": "stream",
     "text": [
      "3.3333333333333335\n"
     ]
    }
   ],
   "source": [
    "#The following uses user input to convert a given number of minutes into hours\n",
    "minutes = int(input(\"Enter Minutes:\"))\n",
    "hours = minutes/60\n",
    "print(hours)"
   ]
  },
  {
   "cell_type": "markdown",
   "id": "b7a36172-d752-473d-8b51-8205763a2c31",
   "metadata": {},
   "source": [
    "__Objectives:__\n",
    "- Created a Jupyter Notebook\n",
    "- Created headings and lists in markdown\n",
    "- Ran arithmetic exressions"
   ]
  },
  {
   "cell_type": "markdown",
   "id": "9e831190-a42c-421b-9b9e-5a5607cb0270",
   "metadata": {},
   "source": [
    "## Author\n",
    "Robert Casanave"
   ]
  },
  {
   "cell_type": "code",
   "execution_count": null,
   "id": "2311b309-b25d-46c6-8f84-c2d215833999",
   "metadata": {},
   "outputs": [],
   "source": []
  }
 ],
 "metadata": {
  "kernelspec": {
   "display_name": "Python",
   "language": "python",
   "name": "conda-env-python-py"
  },
  "language_info": {
   "codemirror_mode": {
    "name": "ipython",
    "version": 3
   },
   "file_extension": ".py",
   "mimetype": "text/x-python",
   "name": "python",
   "nbconvert_exporter": "python",
   "pygments_lexer": "ipython3",
   "version": "3.7.12"
  }
 },
 "nbformat": 4,
 "nbformat_minor": 5
}
